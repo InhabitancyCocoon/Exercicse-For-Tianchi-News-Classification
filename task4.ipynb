{
 "cells": [
  {
   "cell_type": "code",
   "execution_count": 9,
   "metadata": {},
   "outputs": [],
   "source": [
    "import pandas as pd\n",
    "from sklearn.metrics import f1_score\n",
    "\n",
    "train_df = pd.read_csv('./dataset/train_set.csv', sep='\\t', nrows=40000)\n",
    "train_df['label_ft'] = '__label__' + train_df['label'].astype(str)\n",
    "train_df[['text', 'label_ft']].iloc[:-5000].to_csv('./dataset/train.csv', index=None, sep='\\t', header=None)\n"
   ]
  },
  {
   "cell_type": "code",
   "execution_count": 8,
   "metadata": {},
   "outputs": [
    {
     "name": "stdout",
     "output_type": "stream",
     "text": [
      "0.8914924964163824\n"
     ]
    }
   ],
   "source": [
    "\"\"\"\n",
    "保持lr, wordNgrams, verbose, minCount, epoch, loss， 测试集不变，仅修改训练集大小，结果如下\n",
    "\n",
    "15K  0.8296\n",
    "30K  0.8782\n",
    "50K  0.8915\n",
    "\"\"\"\n",
    "\n",
    "import fasttext\n",
    "\n",
    "model = fasttext.train_supervised('./dataset/train.csv', lr=1, wordNgrams=2, verbose=2, minCount=1, epoch=25, loss='hs')\n",
    "\n",
    "val_pred = [model.predict(x)[0][0].split('__')[-1] for x in train_df.iloc[-5000:]['text']]\n",
    "print(f1_score(train_df['label'].values[-5000:].astype(str), val_pred, average='macro'))"
   ]
  },
  {
   "cell_type": "code",
   "execution_count": 10,
   "metadata": {},
   "outputs": [
    {
     "name": "stdout",
     "output_type": "stream",
     "text": [
      "0.8716930385026631\n",
      "0.8675029297024268\n",
      "0.8761717368821362\n",
      "0.8816159961572956\n",
      "0.8838806134729039\n",
      "max_score: 0.8838806134729039\n"
     ]
    }
   ],
   "source": [
    "\"\"\"\n",
    "5折交叉验证，感谢评论区@jackkuo同学的代码参考\n",
    "本地跑不太动，没有仔细搜索超参。\n",
    "\"\"\"\n",
    "\n",
    "from sklearn.model_selection import KFold\n",
    "\n",
    "kf = KFold(n_splits=5, shuffle=True)\n",
    "max_score = 0\n",
    "\n",
    "for train_idx, eval_idx in kf.split(train_df['text'], train_df['label_ft']):\n",
    "    train_df[['text', 'label_ft']].iloc[train_idx].to_csv('./dataset/train_ft.csv', index=None, sep='\\t', header=None)\n",
    "    model = fasttext.train_supervised('./dataset/train_ft.csv', lr=1, wordNgrams=2, verbose=2, minCount=1, epoch=25, loss='hs')\n",
    "\n",
    "    val_pred = [model.predict(x)[0][0].split('__')[-1] for x in train_df.iloc[eval_idx]['text']]\n",
    "    score = f1_score(train_df['label'].values[eval_idx].astype(str), val_pred, average='macro')\n",
    "    print(score)\n",
    "\n",
    "    if score > max_score:\n",
    "        max_score = score\n",
    "        model.save_model('./dataset/best_model.pkl')\n",
    "\n",
    "print(f'max_score: {max_score}')"
   ]
  },
  {
   "cell_type": "code",
   "execution_count": null,
   "metadata": {},
   "outputs": [],
   "source": []
  }
 ],
 "metadata": {
  "kernelspec": {
   "display_name": "base",
   "language": "python",
   "name": "python3"
  },
  "language_info": {
   "codemirror_mode": {
    "name": "ipython",
    "version": 3
   },
   "file_extension": ".py",
   "mimetype": "text/x-python",
   "name": "python",
   "nbconvert_exporter": "python",
   "pygments_lexer": "ipython3",
   "version": "3.10.9"
  },
  "orig_nbformat": 4
 },
 "nbformat": 4,
 "nbformat_minor": 2
}
